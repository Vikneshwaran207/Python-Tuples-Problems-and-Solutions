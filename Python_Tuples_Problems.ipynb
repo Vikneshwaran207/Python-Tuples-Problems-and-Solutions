{
  "nbformat": 4,
  "nbformat_minor": 0,
  "metadata": {
    "colab": {
      "name": "Python Tuples Problems.ipynb",
      "provenance": [],
      "authorship_tag": "ABX9TyNWo0KwK2MpsOnNQFzXQbh9",
      "include_colab_link": true
    },
    "kernelspec": {
      "name": "python3",
      "display_name": "Python 3"
    },
    "language_info": {
      "name": "python"
    }
  },
  "cells": [
    {
      "cell_type": "markdown",
      "metadata": {
        "id": "view-in-github",
        "colab_type": "text"
      },
      "source": [
        "<a href=\"https://colab.research.google.com/github/Vikneshwaran207/Python-Tuples-Problems-and-Solutions/blob/main/Python_Tuples_Problems.ipynb\" target=\"_parent\"><img src=\"https://colab.research.google.com/assets/colab-badge.svg\" alt=\"Open In Colab\"/></a>"
      ]
    },
    {
      "cell_type": "markdown",
      "source": [
        "# Size of the Tuples in Python"
      ],
      "metadata": {
        "id": "-LZFZj3l1ABV"
      }
    },
    {
      "cell_type": "code",
      "source": [
        "# Using sys and getsizeof() function\n",
        "\n",
        "import sys\n",
        "\n",
        "Red = (\"A\", 1, \"B\", 2, \"C\", 3)\n",
        "Blue = (\"P2B1\", \"Raju\", \"P2B2\", \"Nikhil\", \"P2B3\", \"Deepanshu\")\n",
        "Yellow = ((1, \"Lion\"), ( 2, \"Tiger\"), (3, \"Fox\"), (4, \"Wolf\"))\n",
        "\n",
        "print (\" Size of Red is \" + str(sys.getsizeof(Red))+ \" bytes\")\n",
        "print (\" Size of Blue is \" + str(sys.getsizeof(Blue))+ \" bytes\")\n",
        "print (\" Size of Yellow is \" + str(sys.getsizeof(Yellow))+ \" bytes\")"
      ],
      "metadata": {
        "colab": {
          "base_uri": "https://localhost:8080/"
        },
        "id": "GOr4K-I48S0k",
        "outputId": "0e71c65e-e1ca-427b-e60f-1db46513fc08"
      },
      "execution_count": null,
      "outputs": [
        {
          "output_type": "stream",
          "name": "stdout",
          "text": [
            " Size of Red is 104 bytes\n",
            " Size of Blue is 104 bytes\n",
            " Size of Yellow is 88 bytes\n"
          ]
        }
      ]
    },
    {
      "cell_type": "code",
      "source": [
        "# Using __sizeof__() function\n",
        "\n",
        "Red = (\"A\", 1, \"B\", 2, \"C\", 3)\n",
        "Blue = (\"P2B1\", \"Raju\", \"P2B2\", \"Nikhil\", \"P2B3\", \"Deepanshu\")\n",
        "Yellow = ((1, \"Lion\"), ( 2, \"Tiger\"), (3, \"Fox\"), (4, \"Wolf\"))\n",
        "\n",
        "print (\" Size of Red is \" + str(Red.__sizeof__())+ \" bytes\")\n",
        "print (\" Size of Blue is \" + str(Blue.__sizeof__())+ \" bytes\")\n",
        "print (\" Size of Yellow is \" + str(Yellow.__sizeof__())+ \" bytes\")"
      ],
      "metadata": {
        "colab": {
          "base_uri": "https://localhost:8080/"
        },
        "id": "a5609rxS_1xC",
        "outputId": "3742e8a1-a342-49e9-ed2d-d18ed861445a"
      },
      "execution_count": null,
      "outputs": [
        {
          "output_type": "stream",
          "name": "stdout",
          "text": [
            " Size of Red is 72 bytes\n",
            " Size of Blue is 72 bytes\n",
            " Size of Yellow is 56 bytes\n"
          ]
        }
      ]
    },
    {
      "cell_type": "markdown",
      "source": [
        "# Maximum and Minimum K elements in Tuples"
      ],
      "metadata": {
        "id": "hgxsgR1mMsAh"
      }
    },
    {
      "cell_type": "code",
      "source": [
        "a = (5,20,3,7,6,8)\n",
        "\n",
        "print(\"The original Tuple is \", str(a))\n",
        "\n",
        "K = 2\n",
        "a = list(a)\n",
        "temp = sorted(a)\n",
        "res = tuple(temp[:K] + temp[:K:])\n",
        "\n",
        "print(\"The extracted values is \", str(res))"
      ],
      "metadata": {
        "id": "GBUDBbADOgMV",
        "colab": {
          "base_uri": "https://localhost:8080/"
        },
        "outputId": "3354db66-2818-4db5-ed5e-7b60bd2f900f"
      },
      "execution_count": null,
      "outputs": [
        {
          "output_type": "stream",
          "name": "stdout",
          "text": [
            "The original Tuple is  (5, 20, 3, 7, 6, 8)\n",
            "The extracted values is  (3, 5, 3, 5)\n"
          ]
        }
      ]
    },
    {
      "cell_type": "markdown",
      "source": [
        "# Sum of Tuple elements using sum (), map() and list() function"
      ],
      "metadata": {
        "id": "g2i3eTT4rDQd"
      }
    },
    {
      "cell_type": "code",
      "source": [
        "\n",
        "# Using sum() + list() function\n",
        "\n",
        "a = (5,20,67,15,8,9)\n",
        "\n",
        "print(\"The original Tuple is \", str(a))\n",
        "\n",
        "b = sum(list(a))\n",
        "\n",
        "print(\"The summation of Tuple is \", str(b))"
      ],
      "metadata": {
        "colab": {
          "base_uri": "https://localhost:8080/"
        },
        "id": "yTTbJdLErIAF",
        "outputId": "3fc76082-c8bf-405d-ae94-2ebd2d828b58"
      },
      "execution_count": null,
      "outputs": [
        {
          "output_type": "stream",
          "name": "stdout",
          "text": [
            "The original Tuple is  (5, 20, 67, 15, 8, 9)\n",
            "The summation of Tuple is  124\n"
          ]
        }
      ]
    },
    {
      "cell_type": "code",
      "source": [
        "# using map() + list() + sum() function\n",
        "\n",
        "a = ([5,20],[67,15],[8,9])\n",
        "\n",
        "print(\"The original Tuple is \", str(a))\n",
        "\n",
        "b = sum(list(map(sum,list(a))))\n",
        "\n",
        "print(\"The summation of Tuple is \", str(b))"
      ],
      "metadata": {
        "colab": {
          "base_uri": "https://localhost:8080/"
        },
        "id": "H0FQfNlmr8Wh",
        "outputId": "9554e702-c431-488d-c856-a341178e32d6"
      },
      "execution_count": null,
      "outputs": [
        {
          "output_type": "stream",
          "name": "stdout",
          "text": [
            "The original Tuple is  ([5, 20], [67, 15], [8, 9])\n",
            "The summation of Tuple is  124\n"
          ]
        }
      ]
    }
  ]
}